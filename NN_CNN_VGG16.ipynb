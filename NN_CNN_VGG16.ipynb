{
  "nbformat": 4,
  "nbformat_minor": 0,
  "metadata": {
    "colab": {
      "provenance": []
    },
    "kernelspec": {
      "name": "python3",
      "display_name": "Python 3"
    },
    "language_info": {
      "name": "python"
    }
  },
  "cells": [
    {
      "cell_type": "code",
      "execution_count": null,
      "metadata": {
        "id": "V0zsPWB5ODOk"
      },
      "outputs": [],
      "source": [
        "import pandas as pd\n",
        "import numpy as np\n",
        "import tensorflow as tf\n",
        "import keras\n",
        "from tensorflow.keras.models import Model,Sequential\n",
        "from tensorflow.keras.layers import Dense,Activation,Dropout,Conv2D,Input,MaxPool2D\n",
        "import matplotlib.pyplot as plt\n"
      ]
    },
    {
      "cell_type": "code",
      "source": [
        "!unzip dataset.zip"
      ],
      "metadata": {
        "colab": {
          "base_uri": "https://localhost:8080/"
        },
        "id": "Da4Is5mpPbcI",
        "outputId": "8520f60e-b155-4278-b366-c3e89520859a"
      },
      "execution_count": null,
      "outputs": [
        {
          "output_type": "stream",
          "name": "stdout",
          "text": [
            "Archive:  dataset.zip\n",
            "  inflating: Agricultural-crops/Cherry/image15.jpeg  \n",
            "  inflating: Agricultural-crops/Cherry/image16.jpeg  \n",
            "  inflating: Agricultural-crops/Cherry/image17.jpeg  \n",
            "  inflating: Agricultural-crops/Cherry/image18.jpeg  \n",
            "  inflating: Agricultural-crops/Cherry/image20.jpeg  \n",
            "  inflating: Agricultural-crops/Cherry/image21.jpeg  \n",
            "  inflating: Agricultural-crops/Cherry/image22.jpeg  \n",
            "  inflating: Agricultural-crops/Cherry/image24.jpeg  \n",
            "  inflating: Agricultural-crops/Cherry/image25.jpeg  \n",
            "  inflating: Agricultural-crops/Cherry/image27.jpeg  \n",
            "  inflating: Agricultural-crops/Cherry/image28.jpeg  \n",
            "  inflating: Agricultural-crops/Cherry/image29.jpeg  \n",
            "  inflating: Agricultural-crops/Cherry/image30.jpeg  \n",
            "  inflating: Agricultural-crops/Cherry/image31.jpeg  \n",
            "  inflating: Agricultural-crops/Cherry/images11.jpg  \n",
            "  inflating: Agricultural-crops/Cherry/images16.jpg  \n",
            "  inflating: Agricultural-crops/Cherry/images17.jpg  \n",
            "  inflating: Agricultural-crops/Cherry/images19.jpg  \n",
            "  inflating: Agricultural-crops/Cherry/images20.jpg  \n",
            "  inflating: Agricultural-crops/Cherry/images21.jpg  \n",
            "  inflating: Agricultural-crops/Cherry/images25.jpg  \n",
            "  inflating: Agricultural-crops/Cherry/images27.jpg  \n",
            "  inflating: Agricultural-crops/Cherry/images3.jpg  \n",
            "  inflating: Agricultural-crops/Cherry/images30.jpg  \n",
            "  inflating: Agricultural-crops/Cherry/images37.jpg  \n",
            "  inflating: Agricultural-crops/Cherry/images4.jpg  \n",
            "  inflating: Agricultural-crops/Cherry/images41.jpg  \n",
            "  inflating: Agricultural-crops/Cherry/images42.jpg  \n",
            "  inflating: Agricultural-crops/Cherry/images53.jpg  \n",
            "  inflating: Agricultural-crops/Cherry/images54.jpg  \n",
            "  inflating: Agricultural-crops/Cherry/images8.jpg  \n",
            "  inflating: Agricultural-crops/Cherry/images9.jpg  \n",
            "  inflating: Agricultural-crops/Coffee-plant/images10.jpg  \n",
            "  inflating: Agricultural-crops/Coffee-plant/images13.jpg  \n",
            "  inflating: Agricultural-crops/Coffee-plant/images15.jpg  \n",
            "  inflating: Agricultural-crops/Coffee-plant/images16.jpg  \n",
            "  inflating: Agricultural-crops/Coffee-plant/images24.jpg  \n",
            "  inflating: Agricultural-crops/Coffee-plant/images29.jpg  \n",
            "  inflating: Agricultural-crops/Coffee-plant/images40.jpg  \n",
            "  inflating: Agricultural-crops/Coffee-plant/images41.jpg  \n",
            "  inflating: Agricultural-crops/Coffee-plant/images47.jpg  \n",
            "  inflating: Agricultural-crops/Coffee-plant/images48.jpg  \n",
            "  inflating: Agricultural-crops/Coffee-plant/images50.jpg  \n",
            "  inflating: Agricultural-crops/Coffee-plant/images53.jpg  \n",
            "  inflating: Agricultural-crops/Coffee-plant/images54.jpg  \n",
            "  inflating: Agricultural-crops/Coffee-plant/images55.jpg  \n",
            "  inflating: Agricultural-crops/Coffee-plant/images58.jpg  \n",
            "  inflating: Agricultural-crops/Coffee-plant/images59.jpg  \n",
            "  inflating: Agricultural-crops/Coffee-plant/images61.jpg  \n",
            "  inflating: Agricultural-crops/Coffee-plant/images62.jpg  \n",
            "  inflating: Agricultural-crops/Coffee-plant/images64.jpg  \n",
            "  inflating: Agricultural-crops/Coffee-plant/images67.jpg  \n",
            "  inflating: Agricultural-crops/Coffee-plant/images68.jpg  \n",
            "  inflating: Agricultural-crops/Coffee-plant/images69.jpg  \n",
            "  inflating: Agricultural-crops/Coffee-plant/images7.jpg  \n",
            "  inflating: Agricultural-crops/Coffee-plant/images71.jpg  \n",
            "  inflating: Agricultural-crops/Coffee-plant/images74.jpg  \n",
            "  inflating: Agricultural-crops/Coffee-plant/images77.jpg  \n",
            "  inflating: Agricultural-crops/Coffee-plant/images8.jpg  \n",
            "  inflating: Agricultural-crops/Coffee-plant/images80.jpg  \n",
            "  inflating: Agricultural-crops/Coffee-plant/images9.jpg  \n",
            "  inflating: Agricultural-crops/Cucumber/image (1).jpeg  \n",
            "  inflating: Agricultural-crops/Cucumber/image (1).jpg  \n",
            "  inflating: Agricultural-crops/Cucumber/image (10).jpg  \n",
            "  inflating: Agricultural-crops/Cucumber/image (11).jpg  \n",
            "  inflating: Agricultural-crops/Cucumber/image (12).jpg  \n",
            "  inflating: Agricultural-crops/Cucumber/image (13).jpg  \n",
            "  inflating: Agricultural-crops/Cucumber/image (15).jpg  \n",
            "  inflating: Agricultural-crops/Cucumber/image (16).jpg  \n",
            "  inflating: Agricultural-crops/Cucumber/image (17).jpg  \n",
            "  inflating: Agricultural-crops/Cucumber/image (18).jpg  \n",
            "  inflating: Agricultural-crops/Cucumber/image (19).jpg  \n",
            "  inflating: Agricultural-crops/Cucumber/image (2).jpeg  \n",
            "  inflating: Agricultural-crops/Cucumber/image (2).jpg  \n",
            "  inflating: Agricultural-crops/Cucumber/image (20).jpg  \n",
            "  inflating: Agricultural-crops/Cucumber/image (21).jpg  \n",
            "  inflating: Agricultural-crops/Cucumber/image (22).jpg  \n",
            "  inflating: Agricultural-crops/Cucumber/image (23).jpg  \n",
            "  inflating: Agricultural-crops/Cucumber/image (24).jpg  \n",
            "  inflating: Agricultural-crops/Cucumber/image (25).jpg  \n",
            "  inflating: Agricultural-crops/Cucumber/image (26).jpg  \n",
            "  inflating: Agricultural-crops/Cucumber/image (27).jpg  \n",
            "  inflating: Agricultural-crops/Cucumber/image (28).jpg  \n",
            "  inflating: Agricultural-crops/Cucumber/image (29).jpg  \n",
            "  inflating: Agricultural-crops/Cucumber/image (3).jpg  \n",
            "  inflating: Agricultural-crops/Cucumber/image (30).jpg  \n",
            "  inflating: Agricultural-crops/Cucumber/image (4).jpg  \n",
            "  inflating: Agricultural-crops/Cucumber/image (5).jpg  \n",
            "  inflating: Agricultural-crops/Cucumber/image (6).jpg  \n",
            "  inflating: Agricultural-crops/Cucumber/image (7).jpg  \n",
            "  inflating: Agricultural-crops/Cucumber/image (8).jpg  \n",
            "  inflating: Agricultural-crops/Cucumber/image (9).jpg  \n",
            "  inflating: Agricultural-crops/Fox_nut(Makhana)/image11.jpeg  \n",
            "  inflating: Agricultural-crops/Fox_nut(Makhana)/image15.jpeg  \n",
            "  inflating: Agricultural-crops/Fox_nut(Makhana)/image16.jpeg  \n",
            "  inflating: Agricultural-crops/Fox_nut(Makhana)/image17.jpeg  \n",
            "  inflating: Agricultural-crops/Fox_nut(Makhana)/image18.jpeg  \n",
            "  inflating: Agricultural-crops/Fox_nut(Makhana)/image19.jpeg  \n",
            "  inflating: Agricultural-crops/Fox_nut(Makhana)/image20.jpeg  \n",
            "  inflating: Agricultural-crops/Fox_nut(Makhana)/image21.jpeg  \n",
            "  inflating: Agricultural-crops/Fox_nut(Makhana)/image22.jpeg  \n",
            "  inflating: Agricultural-crops/Fox_nut(Makhana)/image28.jpeg  \n",
            "  inflating: Agricultural-crops/Fox_nut(Makhana)/image31.jpeg  \n",
            "  inflating: Agricultural-crops/Fox_nut(Makhana)/image32.jpeg  \n",
            "  inflating: Agricultural-crops/Fox_nut(Makhana)/image4.jpeg  \n",
            "  inflating: Agricultural-crops/Fox_nut(Makhana)/image5.jpeg  \n",
            "  inflating: Agricultural-crops/Fox_nut(Makhana)/image6.jpeg  \n",
            "  inflating: Agricultural-crops/Fox_nut(Makhana)/image8.jpeg  \n",
            "  inflating: Agricultural-crops/Fox_nut(Makhana)/images11.jpg  \n",
            "  inflating: Agricultural-crops/Fox_nut(Makhana)/images20.jpg  \n",
            "  inflating: Agricultural-crops/Fox_nut(Makhana)/images24.jpg  \n",
            "  inflating: Agricultural-crops/Fox_nut(Makhana)/images29.jpg  \n",
            "  inflating: Agricultural-crops/Fox_nut(Makhana)/images31.jpg  \n",
            "  inflating: Agricultural-crops/Fox_nut(Makhana)/images6.jpg  \n",
            "  inflating: Agricultural-crops/Fox_nut(Makhana)/images9.jpg  \n",
            "  inflating: Agricultural-crops/Lemon/image13.jpeg  \n",
            "  inflating: Agricultural-crops/Lemon/image14.jpeg  \n",
            "  inflating: Agricultural-crops/Lemon/image16.jpeg  \n",
            "  inflating: Agricultural-crops/Lemon/image17.jpeg  \n",
            "  inflating: Agricultural-crops/Lemon/image18.jpeg  \n",
            "  inflating: Agricultural-crops/Lemon/image19.jpeg  \n",
            "  inflating: Agricultural-crops/Lemon/image20.jpeg  \n",
            "  inflating: Agricultural-crops/Lemon/image21.jpeg  \n",
            "  inflating: Agricultural-crops/Lemon/image23.jpeg  \n",
            "  inflating: Agricultural-crops/Lemon/image25.jpeg  \n",
            "  inflating: Agricultural-crops/Lemon/image26.jpeg  \n",
            "  inflating: Agricultural-crops/Lemon/image27.jpeg  \n",
            "  inflating: Agricultural-crops/Lemon/image28.jpeg  \n",
            "  inflating: Agricultural-crops/Lemon/image29.jpeg  \n",
            "  inflating: Agricultural-crops/Lemon/image30.jpeg  \n",
            "  inflating: Agricultural-crops/Lemon/image31.jpeg  \n",
            "  inflating: Agricultural-crops/Lemon/image32.jpeg  \n",
            "  inflating: Agricultural-crops/Lemon/image5.jpeg  \n",
            "  inflating: Agricultural-crops/Lemon/image7.jpeg  \n",
            "  inflating: Agricultural-crops/Lemon/images10.jpg  \n",
            "  inflating: Agricultural-crops/Lemon/images11.jpg  \n",
            "  inflating: Agricultural-crops/Lemon/images20.jpg  \n",
            "  inflating: Agricultural-crops/Lemon/images21.jpg  \n",
            "  inflating: Agricultural-crops/Lemon/images23.jpg  \n",
            "  inflating: Agricultural-crops/Lemon/images24.jpg  \n",
            "  inflating: Agricultural-crops/Lemon/images28.jpg  \n",
            "  inflating: Agricultural-crops/Lemon/images32.jpg  \n",
            "  inflating: Agricultural-crops/Lemon/images34.jpg  \n",
            "  inflating: Agricultural-crops/Olive-tree/image (1).jpeg  \n",
            "  inflating: Agricultural-crops/Olive-tree/image (1).jpg  \n",
            "  inflating: Agricultural-crops/Olive-tree/image (1).png  \n",
            "  inflating: Agricultural-crops/Olive-tree/image (10).jpeg  \n",
            "  inflating: Agricultural-crops/Olive-tree/image (10).jpg  \n",
            "  inflating: Agricultural-crops/Olive-tree/image (11).jpg  \n",
            "  inflating: Agricultural-crops/Olive-tree/image (12).jpg  \n",
            "  inflating: Agricultural-crops/Olive-tree/image (13).jpg  \n",
            "  inflating: Agricultural-crops/Olive-tree/image (14).jpg  \n",
            "  inflating: Agricultural-crops/Olive-tree/image (15).jpg  \n",
            "  inflating: Agricultural-crops/Olive-tree/image (16).jpg  \n",
            "  inflating: Agricultural-crops/Olive-tree/image (17).jpg  \n",
            "  inflating: Agricultural-crops/Olive-tree/image (18).jpg  \n",
            "  inflating: Agricultural-crops/Olive-tree/image (19).jpg  \n",
            "  inflating: Agricultural-crops/Olive-tree/image (2).jpeg  \n",
            "  inflating: Agricultural-crops/Olive-tree/image (2).jpg  \n",
            "  inflating: Agricultural-crops/Olive-tree/image (3).jpeg  \n",
            "  inflating: Agricultural-crops/Olive-tree/image (3).jpg  \n",
            "  inflating: Agricultural-crops/Olive-tree/image (4).jpeg  \n",
            "  inflating: Agricultural-crops/Olive-tree/image (4).jpg  \n",
            "  inflating: Agricultural-crops/Olive-tree/image (5).jpeg  \n",
            "  inflating: Agricultural-crops/Olive-tree/image (5).jpg  \n",
            "  inflating: Agricultural-crops/Olive-tree/image (6).jpeg  \n",
            "  inflating: Agricultural-crops/Olive-tree/image (6).jpg  \n",
            "  inflating: Agricultural-crops/Olive-tree/image (7).jpeg  \n",
            "  inflating: Agricultural-crops/Olive-tree/image (7).jpg  \n",
            "  inflating: Agricultural-crops/Olive-tree/image (8).jpeg  \n",
            "  inflating: Agricultural-crops/Olive-tree/image (8).jpg  \n",
            "  inflating: Agricultural-crops/Olive-tree/image (9).jpeg  \n",
            "  inflating: Agricultural-crops/Olive-tree/image (9).jpg  \n",
            "  inflating: Agricultural-crops/Pearl_millet(bajra)/image (1).jpeg  \n",
            "  inflating: Agricultural-crops/Pearl_millet(bajra)/image (1).jpg  \n",
            "  inflating: Agricultural-crops/Pearl_millet(bajra)/image (1).png  \n",
            "  inflating: Agricultural-crops/Pearl_millet(bajra)/image (12).jpg  \n",
            "  inflating: Agricultural-crops/Pearl_millet(bajra)/image (13).jpg  \n",
            "  inflating: Agricultural-crops/Pearl_millet(bajra)/image (14).jpg  \n",
            "  inflating: Agricultural-crops/Pearl_millet(bajra)/image (15).jpg  \n",
            "  inflating: Agricultural-crops/Pearl_millet(bajra)/image (16).jpg  \n",
            "  inflating: Agricultural-crops/Pearl_millet(bajra)/image (17).jpg  \n",
            "  inflating: Agricultural-crops/Pearl_millet(bajra)/image (18).jpg  \n",
            "  inflating: Agricultural-crops/Pearl_millet(bajra)/image (19).jpg  \n",
            "  inflating: Agricultural-crops/Pearl_millet(bajra)/image (2).jpeg  \n",
            "  inflating: Agricultural-crops/Pearl_millet(bajra)/image (2).jpg  \n",
            "  inflating: Agricultural-crops/Pearl_millet(bajra)/image (23).jpg  \n",
            "  inflating: Agricultural-crops/Pearl_millet(bajra)/image (24).jpg  \n",
            "  inflating: Agricultural-crops/Pearl_millet(bajra)/image (27).jpg  \n",
            "  inflating: Agricultural-crops/Pearl_millet(bajra)/image (3).jpeg  \n",
            "  inflating: Agricultural-crops/Pearl_millet(bajra)/image (3).jpg  \n",
            "  inflating: Agricultural-crops/Pearl_millet(bajra)/image (32).jpg  \n",
            "  inflating: Agricultural-crops/Pearl_millet(bajra)/image (33).jpg  \n",
            "  inflating: Agricultural-crops/Pearl_millet(bajra)/image (4).jpg  \n",
            "  inflating: Agricultural-crops/Pearl_millet(bajra)/image (45).jpg  \n",
            "  inflating: Agricultural-crops/Pearl_millet(bajra)/image (5).jpg  \n",
            "  inflating: Agricultural-crops/Pearl_millet(bajra)/image (50).jpg  \n",
            "  inflating: Agricultural-crops/Pearl_millet(bajra)/image (52).jpg  \n",
            "  inflating: Agricultural-crops/Pearl_millet(bajra)/image (54).jpg  \n",
            "  inflating: Agricultural-crops/Pearl_millet(bajra)/image (56).jpg  \n",
            "  inflating: Agricultural-crops/Pearl_millet(bajra)/image (57).jpg  \n",
            "  inflating: Agricultural-crops/Pearl_millet(bajra)/image (58).jpg  \n",
            "  inflating: Agricultural-crops/Pearl_millet(bajra)/image (59).jpg  \n",
            "  inflating: Agricultural-crops/Pearl_millet(bajra)/image (6).jpg  \n",
            "  inflating: Agricultural-crops/Pearl_millet(bajra)/image (61).jpg  \n",
            "  inflating: Agricultural-crops/Pearl_millet(bajra)/image (63).jpg  \n",
            "  inflating: Agricultural-crops/Pearl_millet(bajra)/image (66).jpg  \n",
            "  inflating: Agricultural-crops/Pearl_millet(bajra)/image (7).jpg  \n",
            "  inflating: Agricultural-crops/Pearl_millet(bajra)/image (75).jpg  \n",
            "  inflating: Agricultural-crops/Pearl_millet(bajra)/image (76).jpg  \n",
            "  inflating: Agricultural-crops/Pearl_millet(bajra)/image (84).jpg  \n",
            "  inflating: Agricultural-crops/Pearl_millet(bajra)/image (95).jpg  \n",
            "  inflating: Agricultural-crops/Tobacco-plant/image10.jpeg  \n",
            "  inflating: Agricultural-crops/Tobacco-plant/image11.jpeg  \n",
            "  inflating: Agricultural-crops/Tobacco-plant/image12.jpeg  \n",
            "  inflating: Agricultural-crops/Tobacco-plant/image13.jpeg  \n",
            "  inflating: Agricultural-crops/Tobacco-plant/image16.jpeg  \n",
            "  inflating: Agricultural-crops/Tobacco-plant/image17.jpeg  \n",
            "  inflating: Agricultural-crops/Tobacco-plant/image18.jpeg  \n",
            "  inflating: Agricultural-crops/Tobacco-plant/image19.jpeg  \n",
            "  inflating: Agricultural-crops/Tobacco-plant/image20.jpeg  \n",
            "  inflating: Agricultural-crops/Tobacco-plant/image4.jpeg  \n",
            "  inflating: Agricultural-crops/Tobacco-plant/image5.jpeg  \n",
            "  inflating: Agricultural-crops/Tobacco-plant/image6.jpeg  \n",
            "  inflating: Agricultural-crops/Tobacco-plant/image7.jpeg  \n",
            "  inflating: Agricultural-crops/Tobacco-plant/image9.jpeg  \n",
            "  inflating: Agricultural-crops/Tobacco-plant/images.jpg  \n",
            "  inflating: Agricultural-crops/Tobacco-plant/images10.jpg  \n",
            "  inflating: Agricultural-crops/Tobacco-plant/images14.jpg  \n",
            "  inflating: Agricultural-crops/Tobacco-plant/images15.jpg  \n",
            "  inflating: Agricultural-crops/Tobacco-plant/images17.jpg  \n",
            "  inflating: Agricultural-crops/Tobacco-plant/images18.jpg  \n",
            "  inflating: Agricultural-crops/Tobacco-plant/images24.jpg  \n",
            "  inflating: Agricultural-crops/Tobacco-plant/images25.jpg  \n",
            "  inflating: Agricultural-crops/Tobacco-plant/images29.jpg  \n",
            "  inflating: Agricultural-crops/Tobacco-plant/images3.jpg  \n",
            "  inflating: Agricultural-crops/Tobacco-plant/images30.jpg  \n",
            "  inflating: Agricultural-crops/Tobacco-plant/images34.jpg  \n",
            "  inflating: Agricultural-crops/Tobacco-plant/images36.jpg  \n",
            "  inflating: Agricultural-crops/Tobacco-plant/images39.jpg  \n",
            "  inflating: Agricultural-crops/Tobacco-plant/images4.jpg  \n",
            "  inflating: Agricultural-crops/Tobacco-plant/images41.jpg  \n",
            "  inflating: Agricultural-crops/Tobacco-plant/images5.jpg  \n",
            "  inflating: Agricultural-crops/Tobacco-plant/images6.jpg  \n",
            "  inflating: Agricultural-crops/Tobacco-plant/images8.jpg  \n",
            "  inflating: Agricultural-crops/almond/image (1).jpg  \n",
            "  inflating: Agricultural-crops/almond/image (1).png  \n",
            "  inflating: Agricultural-crops/almond/image (10).jpg  \n",
            "  inflating: Agricultural-crops/almond/image (11).jpg  \n",
            "  inflating: Agricultural-crops/almond/image (12).jpg  \n",
            "  inflating: Agricultural-crops/almond/image (13).jpg  \n",
            "  inflating: Agricultural-crops/almond/image (14).jpg  \n",
            "  inflating: Agricultural-crops/almond/image (15).jpg  \n",
            "  inflating: Agricultural-crops/almond/image (16).jpg  \n",
            "  inflating: Agricultural-crops/almond/image (17).jpg  \n",
            "  inflating: Agricultural-crops/almond/image (18).jpg  \n",
            "  inflating: Agricultural-crops/almond/image (2).jpg  \n",
            "  inflating: Agricultural-crops/almond/image (2).png  \n",
            "  inflating: Agricultural-crops/almond/image (3).jpg  \n",
            "  inflating: Agricultural-crops/almond/image (3).png  \n",
            "  inflating: Agricultural-crops/almond/image (4).jpg  \n",
            "  inflating: Agricultural-crops/almond/image (5).jpg  \n",
            "  inflating: Agricultural-crops/almond/image (6).jpg  \n",
            "  inflating: Agricultural-crops/almond/image (7).jpg  \n",
            "  inflating: Agricultural-crops/almond/image (8).jpg  \n",
            "  inflating: Agricultural-crops/almond/image (9).jpg  \n",
            "  inflating: Agricultural-crops/banana/image (1).jpeg  \n",
            "  inflating: Agricultural-crops/banana/image (1).png  \n",
            "  inflating: Agricultural-crops/banana/image (10).jpg  \n",
            "  inflating: Agricultural-crops/banana/image (11).jpg  \n",
            "  inflating: Agricultural-crops/banana/image (12).jpg  \n",
            "  inflating: Agricultural-crops/banana/image (13).jpg  \n",
            "  inflating: Agricultural-crops/banana/image (14).jpg  \n",
            "  inflating: Agricultural-crops/banana/image (15).jpg  \n",
            "  inflating: Agricultural-crops/banana/image (16).jpg  \n",
            "  inflating: Agricultural-crops/banana/image (17).jpg  \n",
            "  inflating: Agricultural-crops/banana/image (18).jpg  \n",
            "  inflating: Agricultural-crops/banana/image (19).jpg  \n",
            "  inflating: Agricultural-crops/banana/image (2).jpg  \n",
            "  inflating: Agricultural-crops/banana/image (2).png  \n",
            "  inflating: Agricultural-crops/banana/image (20).jpg  \n",
            "  inflating: Agricultural-crops/banana/image (21).jpg  \n",
            "  inflating: Agricultural-crops/banana/image (22).jpg  \n",
            "  inflating: Agricultural-crops/banana/image (23).jpg  \n",
            "  inflating: Agricultural-crops/banana/image (24).jpg  \n",
            "  inflating: Agricultural-crops/banana/image (25).jpg  \n",
            "  inflating: Agricultural-crops/banana/image (26).jpg  \n",
            "  inflating: Agricultural-crops/banana/image (27).jpg  \n",
            "  inflating: Agricultural-crops/banana/image (28).jpg  \n",
            "  inflating: Agricultural-crops/banana/image (29).jpg  \n",
            "  inflating: Agricultural-crops/banana/image (30).jpg  \n",
            "  inflating: Agricultural-crops/banana/image (4).jpg  \n",
            "  inflating: Agricultural-crops/banana/image (5).jpg  \n",
            "  inflating: Agricultural-crops/banana/image (6).jpg  \n",
            "  inflating: Agricultural-crops/banana/image (7).jpg  \n",
            "  inflating: Agricultural-crops/banana/image (8).jpg  \n",
            "  inflating: Agricultural-crops/banana/image (9).jpg  \n",
            "  inflating: Agricultural-crops/cardamom/image (1).jpeg  \n",
            "  inflating: Agricultural-crops/cardamom/image (1).jpg  \n",
            "  inflating: Agricultural-crops/cardamom/image (10).jpeg  \n",
            "  inflating: Agricultural-crops/cardamom/image (11).jpeg  \n",
            "  inflating: Agricultural-crops/cardamom/image (12).jpeg  \n",
            "  inflating: Agricultural-crops/cardamom/image (13).jpeg  \n",
            "  inflating: Agricultural-crops/cardamom/image (14).jpeg  \n",
            "  inflating: Agricultural-crops/cardamom/image (2).jpeg  \n",
            "  inflating: Agricultural-crops/cardamom/image (2).jpg  \n",
            "  inflating: Agricultural-crops/cardamom/image (3).jpeg  \n",
            "  inflating: Agricultural-crops/cardamom/image (3).jpg  \n",
            "  inflating: Agricultural-crops/cardamom/image (4).jpeg  \n",
            "  inflating: Agricultural-crops/cardamom/image (4).jpg  \n",
            "  inflating: Agricultural-crops/cardamom/image (5).jpeg  \n",
            "  inflating: Agricultural-crops/cardamom/image (5).jpg  \n",
            "  inflating: Agricultural-crops/cardamom/image (6).jpeg  \n",
            "  inflating: Agricultural-crops/cardamom/image (6).jpg  \n",
            "  inflating: Agricultural-crops/cardamom/image (7).jpeg  \n",
            "  inflating: Agricultural-crops/cardamom/image (7).jpg  \n",
            "  inflating: Agricultural-crops/cardamom/image (8).jpeg  \n",
            "  inflating: Agricultural-crops/cardamom/image (8).jpg  \n",
            "  inflating: Agricultural-crops/cardamom/image (9).jpeg  \n",
            "  inflating: Agricultural-crops/chilli/image.jpeg  \n",
            "  inflating: Agricultural-crops/chilli/image10.jpeg  \n",
            "  inflating: Agricultural-crops/chilli/image11.jpeg  \n",
            "  inflating: Agricultural-crops/chilli/image13.jpeg  \n",
            "  inflating: Agricultural-crops/chilli/image14.jpeg  \n",
            "  inflating: Agricultural-crops/chilli/image15.jpeg  \n",
            "  inflating: Agricultural-crops/chilli/image17.jpeg  \n",
            "  inflating: Agricultural-crops/chilli/image18.jpeg  \n",
            "  inflating: Agricultural-crops/chilli/image2.jpeg  \n",
            "  inflating: Agricultural-crops/chilli/image20.jpeg  \n",
            "  inflating: Agricultural-crops/chilli/image22.jpeg  \n",
            "  inflating: Agricultural-crops/chilli/image23.jpeg  \n",
            "  inflating: Agricultural-crops/chilli/image24.jpeg  \n",
            "  inflating: Agricultural-crops/chilli/image25.jpeg  \n",
            "  inflating: Agricultural-crops/chilli/image26.jpeg  \n",
            "  inflating: Agricultural-crops/chilli/image28.jpeg  \n",
            "  inflating: Agricultural-crops/chilli/image29.jpeg  \n",
            "  inflating: Agricultural-crops/chilli/image30.jpeg  \n",
            "  inflating: Agricultural-crops/chilli/image31.jpeg  \n",
            "  inflating: Agricultural-crops/chilli/image4.jpeg  \n",
            "  inflating: Agricultural-crops/chilli/image6.jpeg  \n",
            "  inflating: Agricultural-crops/chilli/image8.jpeg  \n",
            "  inflating: Agricultural-crops/chilli/image9.jpeg  \n",
            "  inflating: Agricultural-crops/clove/image12.jpeg  \n",
            "  inflating: Agricultural-crops/clove/image13.jpeg  \n",
            "  inflating: Agricultural-crops/clove/image14.jpeg  \n",
            "  inflating: Agricultural-crops/clove/image15.jpeg  \n",
            "  inflating: Agricultural-crops/clove/image16.jpeg  \n",
            "  inflating: Agricultural-crops/clove/image17.jpeg  \n",
            "  inflating: Agricultural-crops/clove/image18.jpeg  \n",
            "  inflating: Agricultural-crops/clove/image20.jpeg  \n",
            "  inflating: Agricultural-crops/clove/image21.jpeg  \n",
            "  inflating: Agricultural-crops/clove/image22.jpeg  \n",
            "  inflating: Agricultural-crops/clove/image23.jpeg  \n",
            "  inflating: Agricultural-crops/clove/image26.jpeg  \n",
            "  inflating: Agricultural-crops/clove/image27.jpeg  \n",
            "  inflating: Agricultural-crops/clove/image28.jpeg  \n",
            "  inflating: Agricultural-crops/clove/image4.jpeg  \n",
            "  inflating: Agricultural-crops/clove/images10.jpg  \n",
            "  inflating: Agricultural-crops/clove/images13.jpg  \n",
            "  inflating: Agricultural-crops/clove/images20.jpg  \n",
            "  inflating: Agricultural-crops/clove/images21.jpg  \n",
            "  inflating: Agricultural-crops/clove/images28.jpg  \n",
            "  inflating: Agricultural-crops/clove/images32.jpg  \n",
            "  inflating: Agricultural-crops/clove/images35.jpg  \n",
            "  inflating: Agricultural-crops/clove/images37.jpg  \n",
            "  inflating: Agricultural-crops/clove/images44.jpg  \n",
            "  inflating: Agricultural-crops/clove/images46.jpg  \n",
            "  inflating: Agricultural-crops/clove/images52.jpg  \n",
            "  inflating: Agricultural-crops/clove/images54.jpg  \n",
            "  inflating: Agricultural-crops/clove/images6.jpg  \n",
            "  inflating: Agricultural-crops/clove/images7.jpg  \n",
            "  inflating: Agricultural-crops/clove/images9.jpg  \n",
            "  inflating: Agricultural-crops/coconut/image (1).jpeg  \n",
            "  inflating: Agricultural-crops/coconut/image (1).jpg  \n",
            "  inflating: Agricultural-crops/coconut/image (10).jpg  \n",
            "  inflating: Agricultural-crops/coconut/image (11).jpg  \n",
            "  inflating: Agricultural-crops/coconut/image (12).jpg  \n",
            "  inflating: Agricultural-crops/coconut/image (13).jpg  \n",
            "  inflating: Agricultural-crops/coconut/image (14).jpg  \n",
            "  inflating: Agricultural-crops/coconut/image (16).jpg  \n",
            "  inflating: Agricultural-crops/coconut/image (17).jpg  \n",
            "  inflating: Agricultural-crops/coconut/image (19).jpg  \n",
            "  inflating: Agricultural-crops/coconut/image (2).jpg  \n",
            "  inflating: Agricultural-crops/coconut/image (21).jpg  \n",
            "  inflating: Agricultural-crops/coconut/image (25).jpg  \n",
            "  inflating: Agricultural-crops/coconut/image (26).jpg  \n",
            "  inflating: Agricultural-crops/coconut/image (27).jpg  \n",
            "  inflating: Agricultural-crops/coconut/image (3).jpg  \n",
            "  inflating: Agricultural-crops/coconut/image (31).jpg  \n",
            "  inflating: Agricultural-crops/coconut/image (32).jpg  \n",
            "  inflating: Agricultural-crops/coconut/image (33).jpg  \n",
            "  inflating: Agricultural-crops/coconut/image (4).jpeg  \n",
            "  inflating: Agricultural-crops/coconut/image (5).jpeg  \n",
            "  inflating: Agricultural-crops/coconut/image (5).jpg  \n",
            "  inflating: Agricultural-crops/coconut/image (6).jpeg  \n",
            "  inflating: Agricultural-crops/coconut/image (7).jpeg  \n",
            "  inflating: Agricultural-crops/coconut/image (8).jpg  \n",
            "  inflating: Agricultural-crops/cotton/image (1).jpeg  \n",
            "  inflating: Agricultural-crops/cotton/image (1).jpg  \n",
            "  inflating: Agricultural-crops/cotton/image (1).png  \n",
            "  inflating: Agricultural-crops/cotton/image (11).jpg  \n",
            "  inflating: Agricultural-crops/cotton/image (12).jpg  \n",
            "  inflating: Agricultural-crops/cotton/image (13).jpg  \n",
            "  inflating: Agricultural-crops/cotton/image (16).jpg  \n",
            "  inflating: Agricultural-crops/cotton/image (17).jpg  \n",
            "  inflating: Agricultural-crops/cotton/image (19).jpg  \n",
            "  inflating: Agricultural-crops/cotton/image (2).jpeg  \n",
            "  inflating: Agricultural-crops/cotton/image (2).jpg  \n",
            "  inflating: Agricultural-crops/cotton/image (22).jpg  \n",
            "  inflating: Agricultural-crops/cotton/image (23).jpg  \n",
            "  inflating: Agricultural-crops/cotton/image (24).jpg  \n",
            "  inflating: Agricultural-crops/cotton/image (25).jpg  \n",
            "  inflating: Agricultural-crops/cotton/image (26).jpg  \n",
            "  inflating: Agricultural-crops/cotton/image (27).jpg  \n",
            "  inflating: Agricultural-crops/cotton/image (28).jpg  \n",
            "  inflating: Agricultural-crops/cotton/image (3).jpg  \n",
            "  inflating: Agricultural-crops/cotton/image (30).jpg  \n",
            "  inflating: Agricultural-crops/cotton/image (31).jpg  \n",
            "  inflating: Agricultural-crops/cotton/image (33).jpg  \n",
            "  inflating: Agricultural-crops/cotton/image (34).jpg  \n",
            "  inflating: Agricultural-crops/cotton/image (35).jpg  \n",
            "  inflating: Agricultural-crops/cotton/image (36).jpg  \n",
            "  inflating: Agricultural-crops/cotton/image (37).jpg  \n",
            "  inflating: Agricultural-crops/cotton/image (38).jpg  \n",
            "  inflating: Agricultural-crops/cotton/image (39).jpg  \n",
            "  inflating: Agricultural-crops/cotton/image (5).jpg  \n",
            "  inflating: Agricultural-crops/cotton/image (7).jpg  \n",
            "  inflating: Agricultural-crops/cotton/image (8).jpg  \n",
            "  inflating: Agricultural-crops/cotton/image (9).jpg  \n",
            "  inflating: Agricultural-crops/gram/image (1).jpeg  \n",
            "  inflating: Agricultural-crops/gram/image (1).jpg  \n",
            "  inflating: Agricultural-crops/gram/image (1).png  \n",
            "  inflating: Agricultural-crops/gram/image (11).jpg  \n",
            "  inflating: Agricultural-crops/gram/image (12).jpg  \n",
            "  inflating: Agricultural-crops/gram/image (13).jpg  \n",
            "  inflating: Agricultural-crops/gram/image (14).jpg  \n",
            "  inflating: Agricultural-crops/gram/image (15).jpg  \n",
            "  inflating: Agricultural-crops/gram/image (16).jpg  \n",
            "  inflating: Agricultural-crops/gram/image (17).jpg  \n",
            "  inflating: Agricultural-crops/gram/image (2).jpeg  \n",
            "  inflating: Agricultural-crops/gram/image (2).jpg  \n",
            "  inflating: Agricultural-crops/gram/image (2).png  \n",
            "  inflating: Agricultural-crops/gram/image (3).jpeg  \n",
            "  inflating: Agricultural-crops/gram/image (3).jpg  \n",
            "  inflating: Agricultural-crops/gram/image (4).jpeg  \n",
            "  inflating: Agricultural-crops/gram/image (4).jpg  \n",
            "  inflating: Agricultural-crops/gram/image (5).jpeg  \n",
            "  inflating: Agricultural-crops/gram/image (5).jpg  \n",
            "  inflating: Agricultural-crops/gram/image (6).jpeg  \n",
            "  inflating: Agricultural-crops/gram/image (6).jpg  \n",
            "  inflating: Agricultural-crops/gram/image (7).jpeg  \n",
            "  inflating: Agricultural-crops/gram/image (7).jpg  \n",
            "  inflating: Agricultural-crops/gram/image (8).jpeg  \n",
            "  inflating: Agricultural-crops/gram/image (9).jpg  \n",
            "  inflating: Agricultural-crops/jowar/image (1).jpeg  \n",
            "  inflating: Agricultural-crops/jowar/image (1).jpg  \n",
            "  inflating: Agricultural-crops/jowar/image (10).jpeg  \n",
            "  inflating: Agricultural-crops/jowar/image (10).jpg  \n",
            "  inflating: Agricultural-crops/jowar/image (11).jpg  \n",
            "  inflating: Agricultural-crops/jowar/image (12).jpg  \n",
            "  inflating: Agricultural-crops/jowar/image (13).jpg  \n",
            "  inflating: Agricultural-crops/jowar/image (14).jpg  \n",
            "  inflating: Agricultural-crops/jowar/image (15).jpg  \n",
            "  inflating: Agricultural-crops/jowar/image (16).jpg  \n",
            "  inflating: Agricultural-crops/jowar/image (17).jpg  \n",
            "  inflating: Agricultural-crops/jowar/image (19).jpg  \n",
            "  inflating: Agricultural-crops/jowar/image (2).jpeg  \n",
            "  inflating: Agricultural-crops/jowar/image (2).jpg  \n",
            "  inflating: Agricultural-crops/jowar/image (20).jpg  \n",
            "  inflating: Agricultural-crops/jowar/image (21).jpg  \n",
            "  inflating: Agricultural-crops/jowar/image (3).jpeg  \n",
            "  inflating: Agricultural-crops/jowar/image (3).jpg  \n",
            "  inflating: Agricultural-crops/jowar/image (4).jpeg  \n",
            "  inflating: Agricultural-crops/jowar/image (4).jpg  \n",
            "  inflating: Agricultural-crops/jowar/image (5).jpeg  \n",
            "  inflating: Agricultural-crops/jowar/image (5).jpg  \n",
            "  inflating: Agricultural-crops/jowar/image (6).jpeg  \n",
            "  inflating: Agricultural-crops/jowar/image (6).jpg  \n",
            "  inflating: Agricultural-crops/jowar/image (7).jpeg  \n",
            "  inflating: Agricultural-crops/jowar/image (7).jpg  \n",
            "  inflating: Agricultural-crops/jowar/image (8).jpeg  \n",
            "  inflating: Agricultural-crops/jowar/image (8).jpg  \n",
            "  inflating: Agricultural-crops/jowar/image (9).jpeg  \n",
            "  inflating: Agricultural-crops/jowar/image (9).jpg  \n",
            "  inflating: Agricultural-crops/jute/image (1).jpeg  \n",
            "  inflating: Agricultural-crops/jute/image (1).jpg  \n",
            "  inflating: Agricultural-crops/jute/image (10).jpg  \n",
            "  inflating: Agricultural-crops/jute/image (11).jpg  \n",
            "  inflating: Agricultural-crops/jute/image (12).jpg  \n",
            "  inflating: Agricultural-crops/jute/image (13).jpg  \n",
            "  inflating: Agricultural-crops/jute/image (14).jpg  \n",
            "  inflating: Agricultural-crops/jute/image (15).jpg  \n",
            "  inflating: Agricultural-crops/jute/image (16).jpg  \n",
            "  inflating: Agricultural-crops/jute/image (17).jpg  \n",
            "  inflating: Agricultural-crops/jute/image (18).jpg  \n",
            "  inflating: Agricultural-crops/jute/image (2).jpeg  \n",
            "  inflating: Agricultural-crops/jute/image (2).jpg  \n",
            "  inflating: Agricultural-crops/jute/image (20).jpg  \n",
            "  inflating: Agricultural-crops/jute/image (21).jpg  \n",
            "  inflating: Agricultural-crops/jute/image (3).jpeg  \n",
            "  inflating: Agricultural-crops/jute/image (4).jpeg  \n",
            "  inflating: Agricultural-crops/jute/image (4).jpg  \n",
            "  inflating: Agricultural-crops/jute/image (5).jpeg  \n",
            "  inflating: Agricultural-crops/jute/image (5).jpg  \n",
            "  inflating: Agricultural-crops/jute/image (7).jpg  \n",
            "  inflating: Agricultural-crops/jute/image (8).jpg  \n",
            "  inflating: Agricultural-crops/jute/image (9).jpg  \n",
            "  inflating: Agricultural-crops/maize/image (1).jpeg  \n",
            "  inflating: Agricultural-crops/maize/image (1).jpg  \n",
            "  inflating: Agricultural-crops/maize/image (10).jpg  \n",
            "  inflating: Agricultural-crops/maize/image (11).jpeg  \n",
            "  inflating: Agricultural-crops/maize/image (11).jpg  \n",
            "  inflating: Agricultural-crops/maize/image (12).jpg  \n",
            "  inflating: Agricultural-crops/maize/image (13).jpg  \n",
            "  inflating: Agricultural-crops/maize/image (14).jpg  \n",
            "  inflating: Agricultural-crops/maize/image (18).jpg  \n",
            "  inflating: Agricultural-crops/maize/image (19).jpg  \n",
            "  inflating: Agricultural-crops/maize/image (2).jpeg  \n",
            "  inflating: Agricultural-crops/maize/image (2).jpg  \n",
            "  inflating: Agricultural-crops/maize/image (20).jpg  \n",
            "  inflating: Agricultural-crops/maize/image (21).jpg  \n",
            "  inflating: Agricultural-crops/maize/image (23).jpg  \n",
            "  inflating: Agricultural-crops/maize/image (24).jpg  \n",
            "  inflating: Agricultural-crops/maize/image (25).jpg  \n",
            "  inflating: Agricultural-crops/maize/image (26).jpg  \n",
            "  inflating: Agricultural-crops/maize/image (3).jpeg  \n",
            "  inflating: Agricultural-crops/maize/image (3).jpg  \n",
            "  inflating: Agricultural-crops/maize/image (4).jpeg  \n",
            "  inflating: Agricultural-crops/maize/image (4).jpg  \n",
            "  inflating: Agricultural-crops/maize/image (5).jpeg  \n",
            "  inflating: Agricultural-crops/maize/image (5).jpg  \n",
            "  inflating: Agricultural-crops/maize/image (6).jpeg  \n",
            "  inflating: Agricultural-crops/maize/image (6).jpg  \n",
            "  inflating: Agricultural-crops/maize/image (7).jpeg  \n",
            "  inflating: Agricultural-crops/maize/image (7).jpg  \n",
            "  inflating: Agricultural-crops/maize/image (8).jpeg  \n",
            "  inflating: Agricultural-crops/maize/image (8).jpg  \n",
            "  inflating: Agricultural-crops/maize/image (9).jpeg  \n",
            "  inflating: Agricultural-crops/mustard-oil/image (1).jpeg  \n",
            "  inflating: Agricultural-crops/mustard-oil/image (1).jpg  \n",
            "  inflating: Agricultural-crops/mustard-oil/image (1).png  \n",
            "  inflating: Agricultural-crops/mustard-oil/image (10).jpg  \n",
            "  inflating: Agricultural-crops/mustard-oil/image (11).jpg  \n",
            "  inflating: Agricultural-crops/mustard-oil/image (12).jpg  \n",
            "  inflating: Agricultural-crops/mustard-oil/image (13).jpg  \n",
            "  inflating: Agricultural-crops/mustard-oil/image (14).jpg  \n",
            "  inflating: Agricultural-crops/mustard-oil/image (15).jpg  \n",
            "  inflating: Agricultural-crops/mustard-oil/image (16).jpg  \n",
            "  inflating: Agricultural-crops/mustard-oil/image (17).jpg  \n",
            "  inflating: Agricultural-crops/mustard-oil/image (18).jpg  \n",
            "  inflating: Agricultural-crops/mustard-oil/image (2).jpeg  \n",
            "  inflating: Agricultural-crops/mustard-oil/image (2).jpg  \n",
            "  inflating: Agricultural-crops/mustard-oil/image (2).png  \n",
            "  inflating: Agricultural-crops/mustard-oil/image (3).jpeg  \n",
            "  inflating: Agricultural-crops/mustard-oil/image (3).jpg  \n",
            "  inflating: Agricultural-crops/mustard-oil/image (4).jpeg  \n",
            "  inflating: Agricultural-crops/mustard-oil/image (4).jpg  \n",
            "  inflating: Agricultural-crops/mustard-oil/image (5).jpeg  \n",
            "  inflating: Agricultural-crops/mustard-oil/image (5).jpg  \n",
            "  inflating: Agricultural-crops/mustard-oil/image (6).jpeg  \n",
            "  inflating: Agricultural-crops/mustard-oil/image (6).jpg  \n",
            "  inflating: Agricultural-crops/mustard-oil/image (7).jpeg  \n",
            "  inflating: Agricultural-crops/mustard-oil/image (7).jpg  \n",
            "  inflating: Agricultural-crops/mustard-oil/image (8).jpeg  \n",
            "  inflating: Agricultural-crops/mustard-oil/image (8).jpg  \n",
            "  inflating: Agricultural-crops/mustard-oil/image (9).jpg  \n",
            "  inflating: Agricultural-crops/papaya/image (1).jpeg  \n",
            "  inflating: Agricultural-crops/papaya/image (1).jpg  \n",
            "  inflating: Agricultural-crops/papaya/image (10).jpg  \n",
            "  inflating: Agricultural-crops/papaya/image (11).jpg  \n",
            "  inflating: Agricultural-crops/papaya/image (12).jpg  \n",
            "  inflating: Agricultural-crops/papaya/image (13).jpg  \n",
            "  inflating: Agricultural-crops/papaya/image (14).jpg  \n",
            "  inflating: Agricultural-crops/papaya/image (15).jpg  \n",
            "  inflating: Agricultural-crops/papaya/image (16).jpg  \n",
            "  inflating: Agricultural-crops/papaya/image (17).jpg  \n",
            "  inflating: Agricultural-crops/papaya/image (18).jpg  \n",
            "  inflating: Agricultural-crops/papaya/image (19).jpg  \n",
            "  inflating: Agricultural-crops/papaya/image (20).jpg  \n",
            "  inflating: Agricultural-crops/papaya/image (21).jpg  \n",
            "  inflating: Agricultural-crops/papaya/image (22).jpg  \n",
            "  inflating: Agricultural-crops/papaya/image (23).jpg  \n",
            "  inflating: Agricultural-crops/papaya/image (3).jpg  \n",
            "  inflating: Agricultural-crops/papaya/image (4).jpg  \n",
            "  inflating: Agricultural-crops/papaya/image (5).jpg  \n",
            "  inflating: Agricultural-crops/papaya/image (6).jpg  \n",
            "  inflating: Agricultural-crops/papaya/image (7).jpg  \n",
            "  inflating: Agricultural-crops/papaya/image (8).jpg  \n",
            "  inflating: Agricultural-crops/papaya/image (9).jpg  \n",
            "  inflating: Agricultural-crops/pineapple/image (1).jpg  \n",
            "  inflating: Agricultural-crops/pineapple/image (10).jpg  \n",
            "  inflating: Agricultural-crops/pineapple/image (11).jpg  \n",
            "  inflating: Agricultural-crops/pineapple/image (12).jpg  \n",
            "  inflating: Agricultural-crops/pineapple/image (13).jpg  \n",
            "  inflating: Agricultural-crops/pineapple/image (14).jpg  \n",
            "  inflating: Agricultural-crops/pineapple/image (15).jpg  \n",
            "  inflating: Agricultural-crops/pineapple/image (16).jpg  \n",
            "  inflating: Agricultural-crops/pineapple/image (17).jpg  \n",
            "  inflating: Agricultural-crops/pineapple/image (18).jpg  \n",
            "  inflating: Agricultural-crops/pineapple/image (19).jpg  \n",
            "  inflating: Agricultural-crops/pineapple/image (2).jpg  \n",
            "  inflating: Agricultural-crops/pineapple/image (20).jpg  \n",
            "  inflating: Agricultural-crops/pineapple/image (21).jpg  \n",
            "  inflating: Agricultural-crops/pineapple/image (22).jpg  \n",
            "  inflating: Agricultural-crops/pineapple/image (23).jpg  \n",
            "  inflating: Agricultural-crops/pineapple/image (24).jpg  \n",
            "  inflating: Agricultural-crops/pineapple/image (25).jpg  \n",
            "  inflating: Agricultural-crops/pineapple/image (3).jpg  \n",
            "  inflating: Agricultural-crops/pineapple/image (4).jpg  \n",
            "  inflating: Agricultural-crops/pineapple/image (5).jpg  \n",
            "  inflating: Agricultural-crops/pineapple/image (6).jpg  \n",
            "  inflating: Agricultural-crops/pineapple/image (7).jpg  \n",
            "  inflating: Agricultural-crops/pineapple/image (8).jpg  \n",
            "  inflating: Agricultural-crops/pineapple/image (9).jpg  \n",
            "  inflating: Agricultural-crops/rice/image (1).jpeg  \n",
            "  inflating: Agricultural-crops/rice/image (1).jpg  \n",
            "  inflating: Agricultural-crops/rice/image (1).png  \n",
            "  inflating: Agricultural-crops/rice/image (10).jpeg  \n",
            "  inflating: Agricultural-crops/rice/image (10).jpg  \n",
            "  inflating: Agricultural-crops/rice/image (11).jpeg  \n",
            "  inflating: Agricultural-crops/rice/image (11).jpg  \n",
            "  inflating: Agricultural-crops/rice/image (12).jpeg  \n",
            "  inflating: Agricultural-crops/rice/image (12).jpg  \n",
            "  inflating: Agricultural-crops/rice/image (13).jpg  \n",
            "  inflating: Agricultural-crops/rice/image (14).jpg  \n",
            "  inflating: Agricultural-crops/rice/image (15).jpg  \n",
            "  inflating: Agricultural-crops/rice/image (18).jpg  \n",
            "  inflating: Agricultural-crops/rice/image (19).jpg  \n",
            "  inflating: Agricultural-crops/rice/image (2).jpeg  \n",
            "  inflating: Agricultural-crops/rice/image (20).jpg  \n",
            "  inflating: Agricultural-crops/rice/image (3).jpeg  \n",
            "  inflating: Agricultural-crops/rice/image (3).jpg  \n",
            "  inflating: Agricultural-crops/rice/image (4).jpeg  \n",
            "  inflating: Agricultural-crops/rice/image (4).jpg  \n",
            "  inflating: Agricultural-crops/rice/image (5).jpeg  \n",
            "  inflating: Agricultural-crops/rice/image (5).jpg  \n",
            "  inflating: Agricultural-crops/rice/image (6).jpeg  \n",
            "  inflating: Agricultural-crops/rice/image (6).jpg  \n",
            "  inflating: Agricultural-crops/rice/image (7).jpeg  \n",
            "  inflating: Agricultural-crops/rice/image (7).jpg  \n",
            "  inflating: Agricultural-crops/rice/image (8).jpeg  \n",
            "  inflating: Agricultural-crops/rice/image (8).jpg  \n",
            "  inflating: Agricultural-crops/rice/image (9).jpeg  \n",
            "  inflating: Agricultural-crops/soyabean/imaage (10).jpeg  \n",
            "  inflating: Agricultural-crops/soyabean/imaage (10).jpg  \n",
            "  inflating: Agricultural-crops/soyabean/imaage (11).jpeg  \n",
            "  inflating: Agricultural-crops/soyabean/imaage (11).jpg  \n",
            "  inflating: Agricultural-crops/soyabean/imaage (12).jpeg  \n",
            "  inflating: Agricultural-crops/soyabean/imaage (12).jpg  \n",
            "  inflating: Agricultural-crops/soyabean/imaage (14).jpg  \n",
            "  inflating: Agricultural-crops/soyabean/imaage (15).jpg  \n",
            "  inflating: Agricultural-crops/soyabean/imaage (16).jpg  \n",
            "  inflating: Agricultural-crops/soyabean/imaage (17).jpg  \n",
            "  inflating: Agricultural-crops/soyabean/imaage (2).jpeg  \n",
            "  inflating: Agricultural-crops/soyabean/imaage (2).jpg  \n",
            "  inflating: Agricultural-crops/soyabean/imaage (20).jpg  \n",
            "  inflating: Agricultural-crops/soyabean/imaage (21).jpg  \n",
            "  inflating: Agricultural-crops/soyabean/imaage (24).jpg  \n",
            "  inflating: Agricultural-crops/soyabean/imaage (25).jpg  \n",
            "  inflating: Agricultural-crops/soyabean/imaage (26).jpg  \n",
            "  inflating: Agricultural-crops/soyabean/imaage (27).jpg  \n",
            "  inflating: Agricultural-crops/soyabean/imaage (30).jpg  \n",
            "  inflating: Agricultural-crops/soyabean/imaage (31).jpg  \n",
            "  inflating: Agricultural-crops/soyabean/imaage (4).jpg  \n",
            "  inflating: Agricultural-crops/soyabean/imaage (5).jpeg  \n",
            "  inflating: Agricultural-crops/soyabean/imaage (5).jpg  \n",
            "  inflating: Agricultural-crops/soyabean/imaage (6).jpg  \n",
            "  inflating: Agricultural-crops/soyabean/imaage (7).jpeg  \n",
            "  inflating: Agricultural-crops/soyabean/imaage (7).jpg  \n",
            "  inflating: Agricultural-crops/soyabean/imaage (8).jpeg  \n",
            "  inflating: Agricultural-crops/soyabean/imaage (8).jpg  \n",
            "  inflating: Agricultural-crops/soyabean/imaage (9).jpeg  \n",
            "  inflating: Agricultural-crops/soyabean/imaage (9).jpg  \n",
            "  inflating: Agricultural-crops/sugarcane/image (1).jpeg  \n",
            "  inflating: Agricultural-crops/sugarcane/image (11).jpg  \n",
            "  inflating: Agricultural-crops/sugarcane/image (12).jpg  \n",
            "  inflating: Agricultural-crops/sugarcane/image (13).jpg  \n",
            "  inflating: Agricultural-crops/sugarcane/image (14).jpg  \n",
            "  inflating: Agricultural-crops/sugarcane/image (15).jpg  \n",
            "  inflating: Agricultural-crops/sugarcane/image (16).jpg  \n",
            "  inflating: Agricultural-crops/sugarcane/image (2).jpeg  \n",
            "  inflating: Agricultural-crops/sugarcane/image (2).jpg  \n",
            "  inflating: Agricultural-crops/sugarcane/image (21).jpg  \n",
            "  inflating: Agricultural-crops/sugarcane/image (22).jpg  \n",
            "  inflating: Agricultural-crops/sugarcane/image (25).jpg  \n",
            "  inflating: Agricultural-crops/sugarcane/image (26).jpg  \n",
            "  inflating: Agricultural-crops/sugarcane/image (3).jpg  \n",
            "  inflating: Agricultural-crops/sugarcane/image (4).jpeg  \n",
            "  inflating: Agricultural-crops/sugarcane/image (4).jpg  \n",
            "  inflating: Agricultural-crops/sugarcane/image (5).jpeg  \n",
            "  inflating: Agricultural-crops/sugarcane/image (5).jpg  \n",
            "  inflating: Agricultural-crops/sugarcane/image (6).jpeg  \n",
            "  inflating: Agricultural-crops/sugarcane/image (6).jpg  \n",
            "  inflating: Agricultural-crops/sugarcane/image (7).jpeg  \n",
            "  inflating: Agricultural-crops/sugarcane/image (7).jpg  \n",
            "  inflating: Agricultural-crops/sugarcane/image (8).jpeg  \n",
            "  inflating: Agricultural-crops/sugarcane/image (8).jpg  \n",
            "  inflating: Agricultural-crops/sugarcane/image (9).jpg  \n",
            "  inflating: Agricultural-crops/sunflower/image (1).jpeg  \n",
            "  inflating: Agricultural-crops/sunflower/image (1).jpg  \n",
            "  inflating: Agricultural-crops/sunflower/image (1).png  \n",
            "  inflating: Agricultural-crops/sunflower/image (10).jpg  \n",
            "  inflating: Agricultural-crops/sunflower/image (2).jpg  \n",
            "  inflating: Agricultural-crops/sunflower/image (20).jpg  \n",
            "  inflating: Agricultural-crops/sunflower/image (21).jpg  \n",
            "  inflating: Agricultural-crops/sunflower/image (24).jpg  \n",
            "  inflating: Agricultural-crops/sunflower/image (25).jpg  \n",
            "  inflating: Agricultural-crops/sunflower/image (26).jpg  \n",
            "  inflating: Agricultural-crops/sunflower/image (27).jpg  \n",
            "  inflating: Agricultural-crops/sunflower/image (28).jpg  \n",
            "  inflating: Agricultural-crops/sunflower/image (3).jpeg  \n",
            "  inflating: Agricultural-crops/sunflower/image (3).jpg  \n",
            "  inflating: Agricultural-crops/sunflower/image (30).jpg  \n",
            "  inflating: Agricultural-crops/sunflower/image (31).jpg  \n",
            "  inflating: Agricultural-crops/sunflower/image (32).jpg  \n",
            "  inflating: Agricultural-crops/sunflower/image (4).jpeg  \n",
            "  inflating: Agricultural-crops/sunflower/image (4).jpg  \n",
            "  inflating: Agricultural-crops/sunflower/image (5).jpeg  \n",
            "  inflating: Agricultural-crops/sunflower/image (5).jpg  \n",
            "  inflating: Agricultural-crops/sunflower/image (6).jpg  \n",
            "  inflating: Agricultural-crops/sunflower/image (7).jpg  \n",
            "  inflating: Agricultural-crops/sunflower/image (9).jpg  \n",
            "  inflating: Agricultural-crops/tea/image10.jpeg  \n",
            "  inflating: Agricultural-crops/tea/image12.jpeg  \n",
            "  inflating: Agricultural-crops/tea/image14.jpeg  \n",
            "  inflating: Agricultural-crops/tea/image15.jpeg  \n",
            "  inflating: Agricultural-crops/tea/image17.jpeg  \n",
            "  inflating: Agricultural-crops/tea/image19.jpeg  \n",
            "  inflating: Agricultural-crops/tea/image20.jpeg  \n",
            "  inflating: Agricultural-crops/tea/image24.jpeg  \n",
            "  inflating: Agricultural-crops/tea/image25.jpeg  \n",
            "  inflating: Agricultural-crops/tea/image26.jpeg  \n",
            "  inflating: Agricultural-crops/tea/image27.jpeg  \n",
            "  inflating: Agricultural-crops/tea/image29.jpeg  \n",
            "  inflating: Agricultural-crops/tea/image30.jpeg  \n",
            "  inflating: Agricultural-crops/tea/image32.jpeg  \n",
            "  inflating: Agricultural-crops/tea/image5.jpeg  \n",
            "  inflating: Agricultural-crops/tea/image6.jpeg  \n",
            "  inflating: Agricultural-crops/tea/image7.jpeg  \n",
            "  inflating: Agricultural-crops/tea/image8.jpeg  \n",
            "  inflating: Agricultural-crops/tea/image9.jpeg  \n",
            "  inflating: Agricultural-crops/tea/images2.jpg  \n",
            "  inflating: Agricultural-crops/tea/images5.jpg  \n",
            "  inflating: Agricultural-crops/tea/images7.jpg  \n",
            "  inflating: Agricultural-crops/tea/images8.jpg  \n",
            "  inflating: Agricultural-crops/tomato/image (1).jpeg  \n",
            "  inflating: Agricultural-crops/tomato/image (1).jpg  \n",
            "  inflating: Agricultural-crops/tomato/image (10).jpeg  \n",
            "  inflating: Agricultural-crops/tomato/image (10).jpg  \n",
            "  inflating: Agricultural-crops/tomato/image (11).jpeg  \n",
            "  inflating: Agricultural-crops/tomato/image (12).jpeg  \n",
            "  inflating: Agricultural-crops/tomato/image (13).jpeg  \n",
            "  inflating: Agricultural-crops/tomato/image (14).jpeg  \n",
            "  inflating: Agricultural-crops/tomato/image (15).jpeg  \n",
            "  inflating: Agricultural-crops/tomato/image (16).jpeg  \n",
            "  inflating: Agricultural-crops/tomato/image (2).jpeg  \n",
            "  inflating: Agricultural-crops/tomato/image (2).jpg  \n",
            "  inflating: Agricultural-crops/tomato/image (3).jpeg  \n",
            "  inflating: Agricultural-crops/tomato/image (3).jpg  \n",
            "  inflating: Agricultural-crops/tomato/image (4).jpeg  \n",
            "  inflating: Agricultural-crops/tomato/image (4).jpg  \n",
            "  inflating: Agricultural-crops/tomato/image (5).jpeg  \n",
            "  inflating: Agricultural-crops/tomato/image (5).jpg  \n",
            "  inflating: Agricultural-crops/tomato/image (6).jpeg  \n",
            "  inflating: Agricultural-crops/tomato/image (6).jpg  \n",
            "  inflating: Agricultural-crops/tomato/image (7).jpeg  \n",
            "  inflating: Agricultural-crops/tomato/image (7).jpg  \n",
            "  inflating: Agricultural-crops/tomato/image (8).jpeg  \n",
            "  inflating: Agricultural-crops/tomato/image (8).jpg  \n",
            "  inflating: Agricultural-crops/tomato/image (9).jpeg  \n",
            "  inflating: Agricultural-crops/tomato/image (9).jpg  \n",
            "  inflating: Agricultural-crops/vigna-radiati(Mung)/image (1).jpeg  \n",
            "  inflating: Agricultural-crops/vigna-radiati(Mung)/image (1).jpg  \n",
            "  inflating: Agricultural-crops/vigna-radiati(Mung)/image (13).jpg  \n",
            "  inflating: Agricultural-crops/vigna-radiati(Mung)/image (16).jpg  \n",
            "  inflating: Agricultural-crops/vigna-radiati(Mung)/image (18).jpg  \n",
            "  inflating: Agricultural-crops/vigna-radiati(Mung)/image (19).jpg  \n",
            "  inflating: Agricultural-crops/vigna-radiati(Mung)/image (2).jpeg  \n",
            "  inflating: Agricultural-crops/vigna-radiati(Mung)/image (2).jpg  \n",
            "  inflating: Agricultural-crops/vigna-radiati(Mung)/image (20).jpg  \n",
            "  inflating: Agricultural-crops/vigna-radiati(Mung)/image (22).jpg  \n",
            "  inflating: Agricultural-crops/vigna-radiati(Mung)/image (23).jpg  \n",
            "  inflating: Agricultural-crops/vigna-radiati(Mung)/image (24).jpg  \n",
            "  inflating: Agricultural-crops/vigna-radiati(Mung)/image (25).jpg  \n",
            "  inflating: Agricultural-crops/vigna-radiati(Mung)/image (27).jpg  \n",
            "  inflating: Agricultural-crops/vigna-radiati(Mung)/image (28).jpg  \n",
            "  inflating: Agricultural-crops/vigna-radiati(Mung)/image (3).jpeg  \n",
            "  inflating: Agricultural-crops/vigna-radiati(Mung)/image (35).jpg  \n",
            "  inflating: Agricultural-crops/vigna-radiati(Mung)/image (37).jpg  \n",
            "  inflating: Agricultural-crops/vigna-radiati(Mung)/image (38).jpg  \n",
            "  inflating: Agricultural-crops/vigna-radiati(Mung)/image (39).jpg  \n",
            "  inflating: Agricultural-crops/vigna-radiati(Mung)/image (4).jpeg  \n",
            "  inflating: Agricultural-crops/vigna-radiati(Mung)/image (4).jpg  \n",
            "  inflating: Agricultural-crops/vigna-radiati(Mung)/image (5).jpeg  \n",
            "  inflating: Agricultural-crops/vigna-radiati(Mung)/image (6).jpg  \n",
            "  inflating: Agricultural-crops/vigna-radiati(Mung)/image (7).jpg  \n",
            "  inflating: Agricultural-crops/vigna-radiati(Mung)/image (8).jpg  \n",
            "  inflating: Agricultural-crops/vigna-radiati(Mung)/image (9).jpg  \n",
            "  inflating: Agricultural-crops/wheat/image (1).jpeg  \n",
            "  inflating: Agricultural-crops/wheat/image (10).jpeg  \n",
            "  inflating: Agricultural-crops/wheat/image (11).jpg  \n",
            "  inflating: Agricultural-crops/wheat/image (18).jpg  \n",
            "  inflating: Agricultural-crops/wheat/image (19).jpg  \n",
            "  inflating: Agricultural-crops/wheat/image (2).jpeg  \n",
            "  inflating: Agricultural-crops/wheat/image (29).jpg  \n",
            "  inflating: Agricultural-crops/wheat/image (33).jpg  \n",
            "  inflating: Agricultural-crops/wheat/image (34).jpg  \n",
            "  inflating: Agricultural-crops/wheat/image (35).jpg  \n",
            "  inflating: Agricultural-crops/wheat/image (36).jpg  \n",
            "  inflating: Agricultural-crops/wheat/image (37).jpg  \n",
            "  inflating: Agricultural-crops/wheat/image (38).jpg  \n",
            "  inflating: Agricultural-crops/wheat/image (39).jpg  \n",
            "  inflating: Agricultural-crops/wheat/image (40).jpg  \n",
            "  inflating: Agricultural-crops/wheat/image (41).jpg  \n",
            "  inflating: Agricultural-crops/wheat/image (42).jpg  \n",
            "  inflating: Agricultural-crops/wheat/image (43).jpg  \n",
            "  inflating: Agricultural-crops/wheat/image (44).jpg  \n",
            "  inflating: Agricultural-crops/wheat/image (45).jpg  \n",
            "  inflating: Agricultural-crops/wheat/image (46).jpg  \n",
            "  inflating: Agricultural-crops/wheat/image (48).jpg  \n",
            "  inflating: Agricultural-crops/wheat/image (49).jpg  \n",
            "  inflating: Agricultural-crops/wheat/image (50).jpg  \n",
            "  inflating: Agricultural-crops/wheat/image (51).jpg  \n",
            "  inflating: Agricultural-crops/wheat/image (52).jpg  \n",
            "  inflating: Agricultural-crops/wheat/image (53).jpg  \n",
            "  inflating: Agricultural-crops/wheat/image (6).jpg  \n",
            "  inflating: Agricultural-crops/wheat/image (7).jpeg  \n",
            "  inflating: Agricultural-crops/wheat/image (7).jpg  \n",
            "  inflating: Agricultural-crops/wheat/image (8).jpg  \n"
          ]
        }
      ]
    },
    {
      "cell_type": "code",
      "source": [
        "!pip install split-folders"
      ],
      "metadata": {
        "colab": {
          "base_uri": "https://localhost:8080/"
        },
        "id": "tgZBw95eP3Ck",
        "outputId": "86494e5f-ba74-4241-bf96-dd64fcc4503f"
      },
      "execution_count": null,
      "outputs": [
        {
          "output_type": "stream",
          "name": "stdout",
          "text": [
            "Collecting split-folders\n",
            "  Downloading split_folders-0.5.1-py3-none-any.whl (8.4 kB)\n",
            "Installing collected packages: split-folders\n",
            "Successfully installed split-folders-0.5.1\n"
          ]
        }
      ]
    },
    {
      "cell_type": "code",
      "source": [
        "import splitfolders\n",
        "splitfolders.ratio('/content/Agricultural-crops',output='Dataimage',seed=1337,ratio=(0.7,0.2,0.1))"
      ],
      "metadata": {
        "colab": {
          "base_uri": "https://localhost:8080/"
        },
        "id": "Me9sCUqlR2Ll",
        "outputId": "80dbf87f-ce17-4fc2-a663-b83252c7d74d"
      },
      "execution_count": null,
      "outputs": [
        {
          "output_type": "stream",
          "name": "stderr",
          "text": [
            "Copying files: 829 files [00:01, 554.38 files/s]\n"
          ]
        }
      ]
    },
    {
      "cell_type": "code",
      "source": [
        "from keras.preprocessing.image import ImageDataGenerator\n",
        "train_generator=ImageDataGenerator(1./255)\n",
        "train_gen=train_generator.flow_from_directory('/content/Dataimage/train',target_size=(224,224),batch_size=32)"
      ],
      "metadata": {
        "colab": {
          "base_uri": "https://localhost:8080/"
        },
        "id": "Z6oHftAFPh_G",
        "outputId": "44e1a8b8-11f9-46fc-eca4-c03f2b88b218"
      },
      "execution_count": null,
      "outputs": [
        {
          "output_type": "stream",
          "name": "stdout",
          "text": [
            "Found 569 images belonging to 30 classes.\n"
          ]
        }
      ]
    },
    {
      "cell_type": "code",
      "source": [
        "test_generator=ImageDataGenerator(1./255)\n",
        "test_gen=test_generator.flow_from_directory('/content/Dataimage/test',target_size=(224,224),batch_size=32)"
      ],
      "metadata": {
        "colab": {
          "base_uri": "https://localhost:8080/"
        },
        "id": "F15Zh2eYQNCn",
        "outputId": "5f144ba0-680c-4972-dd56-29a8a365fcf3"
      },
      "execution_count": null,
      "outputs": [
        {
          "output_type": "stream",
          "name": "stdout",
          "text": [
            "Found 105 images belonging to 30 classes.\n"
          ]
        }
      ]
    },
    {
      "cell_type": "code",
      "source": [
        "images,labels=next(train_gen)"
      ],
      "metadata": {
        "colab": {
          "base_uri": "https://localhost:8080/"
        },
        "id": "PGQ3PsOxQj8J",
        "outputId": "7f98fb91-315c-4475-9afe-6540cdf2ca5c"
      },
      "execution_count": null,
      "outputs": [
        {
          "output_type": "stream",
          "name": "stderr",
          "text": [
            "/usr/local/lib/python3.10/dist-packages/keras/src/preprocessing/image.py:1862: UserWarning: This ImageDataGenerator specifies `featurewise_center`, but it hasn't been fit on any training data. Fit it first by calling `.fit(numpy_data)`.\n",
            "  warnings.warn(\n"
          ]
        }
      ]
    },
    {
      "cell_type": "code",
      "source": [
        "from PIL import Image\n",
        "plt.subplot(221)\n",
        "plt.imshow(Image.open('/content/Dataimage/test/Cherry/images20.jpg'))"
      ],
      "metadata": {
        "colab": {
          "base_uri": "https://localhost:8080/",
          "height": 238
        },
        "id": "3-BkjVXQSisp",
        "outputId": "822afe10-04f8-4a41-8ae0-dd3f438bc18b"
      },
      "execution_count": null,
      "outputs": [
        {
          "output_type": "execute_result",
          "data": {
            "text/plain": [
              "<matplotlib.image.AxesImage at 0x7d39f8a8ad70>"
            ]
          },
          "metadata": {},
          "execution_count": 20
        },
        {
          "output_type": "display_data",
          "data": {
            "text/plain": [
              "<Figure size 640x480 with 1 Axes>"
            ],
            "image/png": "[encoded data removed]"
          },
          "metadata": {}
        }
      ]
    },
    {
      "cell_type": "code",
      "source": [
        "plt.subplot(221)\n",
        "plt.imshow(images[0])\n",
        "\n",
        "plt.subplot(222)\n",
        "plt.imshow(images[1])\n",
        "\n",
        "plt.subplot(223)\n",
        "plt.imshow(images[2])\n",
        "\n",
        "plt.subplot(224)\n",
        "plt.imshow(images[3])"
      ],
      "metadata": {
        "colab": {
          "base_uri": "https://localhost:8080/",
          "height": 522
        },
        "id": "dK0s88YSQeet",
        "outputId": "b558d4a2-d068-4b5f-cddb-6ce8350a15c1"
      },
      "execution_count": null,
      "outputs": [
        {
          "output_type": "stream",
          "name": "stderr",
          "text": [
            "WARNING:matplotlib.image:Clipping input data to the valid range for imshow with RGB data ([0..1] for floats or [0..255] for integers).\n",
            "WARNING:matplotlib.image:Clipping input data to the valid range for imshow with RGB data ([0..1] for floats or [0..255] for integers).\n",
            "WARNING:matplotlib.image:Clipping input data to the valid range for imshow with RGB data ([0..1] for floats or [0..255] for integers).\n",
            "WARNING:matplotlib.image:Clipping input data to the valid range for imshow with RGB data ([0..1] for floats or [0..255] for integers).\n"
          ]
        },
        {
          "output_type": "execute_result",
          "data": {
            "text/plain": [
              "<matplotlib.image.AxesImage at 0x7d39f9cde050>"
            ]
          },
          "metadata": {},
          "execution_count": 17
        },
        {
          "output_type": "display_data",
          "data": {
            "text/plain": [
              "<Figure size 640x480 with 4 Axes>"
            ],
            "image/png": "[encoded data removed]"
          },
          "metadata": {}
        }
      ]
    },
    {
      "cell_type": "code",
      "source": [
        "model=Sequential()\n",
        "model.add(Dense(128,input_shape=(224,224,3),activation='relu'))\n",
        "model.add(Dense(64,activation='relu'))\n",
        "model.add(Dense(8,activation='relu'))\n",
        "model.add(keras.layers.Flatten())\n",
        "model.add(Dense(1,activation='sigmoid'))\n",
        "model.compile(loss='binary_crossentropy',optimizer='adam',metrics=['accuracy'])\n",
        "model.summary()"
      ],
      "metadata": {
        "colab": {
          "base_uri": "https://localhost:8080/"
        },
        "id": "uqF8CjXKQyfY",
        "outputId": "edcfc489-6935-4375-ea98-7066f2df9c58"
      },
      "execution_count": null,
      "outputs": [
        {
          "output_type": "stream",
          "name": "stdout",
          "text": [
            "Model: \"sequential_1\"\n",
            "_________________________________________________________________\n",
            " Layer (type)                Output Shape              Param #   \n",
            "=================================================================\n",
            " dense (Dense)               (None, 224, 224, 128)     512       \n",
            "                                                                 \n",
            " dense_1 (Dense)             (None, 224, 224, 64)      8256      \n",
            "                                                                 \n",
            " dense_2 (Dense)             (None, 224, 224, 8)       520       \n",
            "                                                                 \n",
            " flatten (Flatten)           (None, 401408)            0         \n",
            "                                                                 \n",
            " dense_3 (Dense)             (None, 1)                 401409    \n",
            "                                                                 \n",
            "=================================================================\n",
            "Total params: 410697 (1.57 MB)\n",
            "Trainable params: 410697 (1.57 MB)\n",
            "Non-trainable params: 0 (0.00 Byte)\n",
            "_________________________________________________________________\n"
          ]
        }
      ]
    },
    {
      "cell_type": "code",
      "source": [
        "model.fit(train_gen,epochs=2,validation_data=(train_gen))"
      ],
      "metadata": {
        "colab": {
          "base_uri": "https://localhost:8080/"
        },
        "id": "CyBsdWzkRWar",
        "outputId": "a0a4351e-eb17-412c-8753-d646acc6caf2"
      },
      "execution_count": null,
      "outputs": [
        {
          "output_type": "stream",
          "name": "stderr",
          "text": [
            "/usr/local/lib/python3.10/dist-packages/keras/src/preprocessing/image.py:1862: UserWarning: This ImageDataGenerator specifies `featurewise_center`, but it hasn't been fit on any training data. Fit it first by calling `.fit(numpy_data)`.\n",
            "  warnings.warn(\n"
          ]
        },
        {
          "output_type": "stream",
          "name": "stdout",
          "text": [
            "Epoch 1/2\n",
            "18/18 [==============================] - 152s 8s/step - loss: 119.8279 - accuracy: 0.8617 - val_loss: 0.6464 - val_accuracy: 0.9667\n",
            "Epoch 2/2\n",
            "18/18 [==============================] - 204s 12s/step - loss: 0.6443 - accuracy: 0.9667 - val_loss: 0.6252 - val_accuracy: 0.9667\n"
          ]
        },
        {
          "output_type": "execute_result",
          "data": {
            "text/plain": [
              "<keras.src.callbacks.History at 0x7d39f89e1600>"
            ]
          },
          "metadata": {},
          "execution_count": 23
        }
      ]
    },
    {
      "cell_type": "code",
      "source": [
        "model.evaluate(test_gen,verbose=1)"
      ],
      "metadata": {
        "colab": {
          "base_uri": "https://localhost:8080/"
        },
        "id": "NrvWqokeUmRQ",
        "outputId": "941b315e-6e97-4486-dc6d-29e9e058cc3e"
      },
      "execution_count": null,
      "outputs": [
        {
          "output_type": "stream",
          "name": "stderr",
          "text": [
            "/usr/local/lib/python3.10/dist-packages/keras/src/preprocessing/image.py:1862: UserWarning: This ImageDataGenerator specifies `featurewise_center`, but it hasn't been fit on any training data. Fit it first by calling `.fit(numpy_data)`.\n",
            "  warnings.warn(\n"
          ]
        },
        {
          "output_type": "stream",
          "name": "stdout",
          "text": [
            "4/4 [==============================] - 7s 2s/step - loss: 0.6832 - accuracy: 0.9667\n"
          ]
        },
        {
          "output_type": "execute_result",
          "data": {
            "text/plain": [
              "[0.6831769943237305, 0.966666579246521]"
            ]
          },
          "metadata": {},
          "execution_count": 24
        }
      ]
    },
    {
      "cell_type": "code",
      "source": [
        "model=Sequential()\n",
        "model.add(Conv2D(128,kernel_size=(3,3),input_shape=(224,224,3),activation='relu'))\n",
        "model.add(MaxPool2D(pool_size=(2,2)))\n",
        "model.add(Dropout(0.3))\n",
        "model.add(Dense(64,activation='relu'))\n",
        "model.add(Dense(8,activation='relu'))\n",
        "model.add(keras.layers.Flatten())\n",
        "model.add(Dense(1,activation='sigmoid'))\n",
        "model.compile(loss='binary_crossentropy',optimizer='adam',metrics=['accuracy'])\n",
        "model.summary()"
      ],
      "metadata": {
        "colab": {
          "base_uri": "https://localhost:8080/"
        },
        "id": "Kz8UNaeiT5k1",
        "outputId": "907bd82b-abb5-407b-aa5d-381caecd2fd5"
      },
      "execution_count": null,
      "outputs": [
        {
          "output_type": "stream",
          "name": "stdout",
          "text": [
            "Model: \"sequential_2\"\n",
            "_________________________________________________________________\n",
            " Layer (type)                Output Shape              Param #   \n",
            "=================================================================\n",
            " conv2d (Conv2D)             (None, 222, 222, 128)     3584      \n",
            "                                                                 \n",
            " max_pooling2d (MaxPooling2  (None, 111, 111, 128)     0         \n",
            " D)                                                              \n",
            "                                                                 \n",
            " dropout (Dropout)           (None, 111, 111, 128)     0         \n",
            "                                                                 \n",
            " dense_4 (Dense)             (None, 111, 111, 64)      8256      \n",
            "                                                                 \n",
            " dense_5 (Dense)             (None, 111, 111, 8)       520       \n",
            "                                                                 \n",
            " flatten_1 (Flatten)         (None, 98568)             0         \n",
            "                                                                 \n",
            " dense_6 (Dense)             (None, 1)                 98569     \n",
            "                                                                 \n",
            "=================================================================\n",
            "Total params: 110929 (433.32 KB)\n",
            "Trainable params: 110929 (433.32 KB)\n",
            "Non-trainable params: 0 (0.00 Byte)\n",
            "_________________________________________________________________\n"
          ]
        }
      ]
    },
    {
      "cell_type": "code",
      "source": [
        "model.fit(train_gen,epochs=2,validation_data=(train_gen))"
      ],
      "metadata": {
        "colab": {
          "base_uri": "https://localhost:8080/"
        },
        "id": "11e_S4RWU4dG",
        "outputId": "00d927a0-0c69-46e8-8c3d-340295c04723"
      },
      "execution_count": null,
      "outputs": [
        {
          "output_type": "stream",
          "name": "stdout",
          "text": [
            "Epoch 1/2\n",
            "18/18 [==============================] - 181s 10s/step - loss: 4.1351 - accuracy: 0.8814 - val_loss: 0.6892 - val_accuracy: 0.9585\n",
            "Epoch 2/2\n",
            "18/18 [==============================] - 151s 9s/step - loss: 0.1901 - accuracy: 0.9667 - val_loss: 0.6879 - val_accuracy: 0.9667\n"
          ]
        },
        {
          "output_type": "execute_result",
          "data": {
            "text/plain": [
              "<keras.src.callbacks.History at 0x7d39f034f370>"
            ]
          },
          "metadata": {},
          "execution_count": 26
        }
      ]
    },
    {
      "cell_type": "code",
      "source": [
        "from keras.applications.vgg16 import VGG16\n",
        "\n",
        "base_model=VGG16(weights='imagenet',include_top=False,input_shape=(224,224,3))\n",
        "base_model.trainable=False\n",
        "base_model.summary()\n"
      ],
      "metadata": {
        "colab": {
          "base_uri": "https://localhost:8080/"
        },
        "id": "esm2jv6lU7t6",
        "outputId": "0a8f30c2-d534-4a44-b97a-a3103f534957"
      },
      "execution_count": null,
      "outputs": [
        {
          "output_type": "stream",
          "name": "stdout",
          "text": [
            "Downloading data from https://storage.googleapis.com/tensorflow/keras-applications/vgg16/vgg16_weights_tf_dim_ordering_tf_kernels_notop.h5\n",
            "58889256/58889256 [==============================] - 1s 0us/step\n",
            "Model: \"vgg16\"\n",
            "_________________________________________________________________\n",
            " Layer (type)                Output Shape              Param #   \n",
            "=================================================================\n",
            " input_1 (InputLayer)        [(None, 224, 224, 3)]     0         \n",
            "                                                                 \n",
            " block1_conv1 (Conv2D)       (None, 224, 224, 64)      1792      \n",
            "                                                                 \n",
            " block1_conv2 (Conv2D)       (None, 224, 224, 64)      36928     \n",
            "                                                                 \n",
            " block1_pool (MaxPooling2D)  (None, 112, 112, 64)      0         \n",
            "                                                                 \n",
            " block2_conv1 (Conv2D)       (None, 112, 112, 128)     73856     \n",
            "                                                                 \n",
            " block2_conv2 (Conv2D)       (None, 112, 112, 128)     147584    \n",
            "                                                                 \n",
            " block2_pool (MaxPooling2D)  (None, 56, 56, 128)       0         \n",
            "                                                                 \n",
            " block3_conv1 (Conv2D)       (None, 56, 56, 256)       295168    \n",
            "                                                                 \n",
            " block3_conv2 (Conv2D)       (None, 56, 56, 256)       590080    \n",
            "                                                                 \n",
            " block3_conv3 (Conv2D)       (None, 56, 56, 256)       590080    \n",
            "                                                                 \n",
            " block3_pool (MaxPooling2D)  (None, 28, 28, 256)       0         \n",
            "                                                                 \n",
            " block4_conv1 (Conv2D)       (None, 28, 28, 512)       1180160   \n",
            "                                                                 \n",
            " block4_conv2 (Conv2D)       (None, 28, 28, 512)       2359808   \n",
            "                                                                 \n",
            " block4_conv3 (Conv2D)       (None, 28, 28, 512)       2359808   \n",
            "                                                                 \n",
            " block4_pool (MaxPooling2D)  (None, 14, 14, 512)       0         \n",
            "                                                                 \n",
            " block5_conv1 (Conv2D)       (None, 14, 14, 512)       2359808   \n",
            "                                                                 \n",
            " block5_conv2 (Conv2D)       (None, 14, 14, 512)       2359808   \n",
            "                                                                 \n",
            " block5_conv3 (Conv2D)       (None, 14, 14, 512)       2359808   \n",
            "                                                                 \n",
            " block5_pool (MaxPooling2D)  (None, 7, 7, 512)         0         \n",
            "                                                                 \n",
            "=================================================================\n",
            "Total params: 14714688 (56.13 MB)\n",
            "Trainable params: 0 (0.00 Byte)\n",
            "Non-trainable params: 14714688 (56.13 MB)\n",
            "_________________________________________________________________\n"
          ]
        }
      ]
    },
    {
      "cell_type": "code",
      "source": [
        "model=Sequential()\n",
        "model.add(base_model)\n",
        "model.add(keras.layers.Flatten())\n",
        "model.add(Dense(64,activation='relu'))\n",
        "model.add(Dropout(0.5))\n",
        "model.add(Dense(1,activation='sigmoid'))\n",
        "model.compile(loss='binary_crossentropy',optimizer='adam',metrics=['accuracy'])\n",
        "model.summary()"
      ],
      "metadata": {
        "colab": {
          "base_uri": "https://localhost:8080/"
        },
        "id": "ebmkoo3PVqve",
        "outputId": "909d6dfd-a86b-4c0a-f2ee-84e971818c24"
      },
      "execution_count": null,
      "outputs": [
        {
          "output_type": "stream",
          "name": "stdout",
          "text": [
            "Model: \"sequential_4\"\n",
            "_________________________________________________________________\n",
            " Layer (type)                Output Shape              Param #   \n",
            "=================================================================\n",
            " vgg16 (Functional)          (None, 7, 7, 512)         14714688  \n",
            "                                                                 \n",
            " flatten_3 (Flatten)         (None, 25088)             0         \n",
            "                                                                 \n",
            " dense_8 (Dense)             (None, 64)                1605696   \n",
            "                                                                 \n",
            " dropout_1 (Dropout)         (None, 64)                0         \n",
            "                                                                 \n",
            " dense_9 (Dense)             (None, 1)                 65        \n",
            "                                                                 \n",
            "=================================================================\n",
            "Total params: 16320449 (62.26 MB)\n",
            "Trainable params: 1605761 (6.13 MB)\n",
            "Non-trainable params: 14714688 (56.13 MB)\n",
            "_________________________________________________________________\n"
          ]
        }
      ]
    },
    {
      "cell_type": "code",
      "source": [
        "model.fit(train_gen,epochs=2,validation_data=(train_gen))"
      ],
      "metadata": {
        "colab": {
          "base_uri": "https://localhost:8080/"
        },
        "id": "BL-pkcKJXVg2",
        "outputId": "f043c438-721b-44fc-aa9d-e9bc8059d2ac"
      },
      "execution_count": null,
      "outputs": [
        {
          "metadata": {
            "tags": null
          },
          "name": "stderr",
          "output_type": "stream",
          "text": [
            "/usr/local/lib/python3.10/dist-packages/keras/src/preprocessing/image.py:1862: UserWarning: This ImageDataGenerator specifies `featurewise_center`, but it hasn't been fit on any training data. Fit it first by calling `.fit(numpy_data)`.\n",
            "  warnings.warn(\n"
          ]
        },
        {
          "output_type": "stream",
          "name": "stdout",
          "text": [
            "Epoch 1/2\n",
            "18/18 [==============================] - 665s 37s/step - loss: 2.8117 - accuracy: 0.9011 - val_loss: 1.5769 - val_accuracy: 0.9552\n",
            "Epoch 2/2\n",
            "18/18 [==============================] - 643s 37s/step - loss: 1.1974 - accuracy: 0.9486 - val_loss: 0.8415 - val_accuracy: 0.9437\n"
          ]
        },
        {
          "output_type": "execute_result",
          "data": {
            "text/plain": [
              "<keras.src.callbacks.History at 0x7d39e870a950>"
            ]
          },
          "metadata": {},
          "execution_count": 31
        }
      ]
    },
    {
      "cell_type": "code",
      "source": [
        "model.evaluate(test_gen,verbose=1)"
      ],
      "metadata": {
        "colab": {
          "base_uri": "https://localhost:8080/"
        },
        "id": "9tOoU-Zcb48B",
        "outputId": "d1e3d68a-ec81-4a8f-8207-34c30afe5fc5"
      },
      "execution_count": null,
      "outputs": [
        {
          "output_type": "stream",
          "name": "stdout",
          "text": [
            "4/4 [==============================] - 56s 13s/step - loss: 0.2211 - accuracy: 0.9667\n"
          ]
        },
        {
          "output_type": "execute_result",
          "data": {
            "text/plain": [
              "[0.2210775762796402, 0.966666579246521]"
            ]
          },
          "metadata": {},
          "execution_count": 32
        }
      ]
    }
  ]
}